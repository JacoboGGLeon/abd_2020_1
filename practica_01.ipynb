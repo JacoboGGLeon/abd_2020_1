{
  "nbformat": 4,
  "nbformat_minor": 0,
  "metadata": {
    "colab": {
      "name": "practica_01.ipynb",
      "version": "0.3.2",
      "provenance": [],
      "collapsed_sections": [
        "sH76bu1I-GMn",
        "O6gNtvDQqWZx"
      ],
      "include_colab_link": true
    },
    "kernelspec": {
      "name": "python3",
      "display_name": "Python 3"
    }
  },
  "cells": [
    {
      "cell_type": "markdown",
      "metadata": {
        "id": "view-in-github",
        "colab_type": "text"
      },
      "source": [
        "<a href=\"https://colab.research.google.com/github/JacoboGGLeon/abd_2020_1/blob/master/practica_01.ipynb\" target=\"_parent\"><img src=\"https://colab.research.google.com/assets/colab-badge.svg\" alt=\"Open In Colab\"/></a>"
      ]
    },
    {
      "cell_type": "markdown",
      "metadata": {
        "id": "yl08866uU514",
        "colab_type": "text"
      },
      "source": [
        "# Práctica 1\n",
        "## Ecosistema de un Administrador de Bases de datos y creación de una API"
      ]
    },
    {
      "cell_type": "markdown",
      "metadata": {
        "id": "2h2wm98KVFYf",
        "colab_type": "text"
      },
      "source": [
        "### Material\n",
        "* [Designing a RESTful API with Node and Postgres](https://mherman.org/blog/designing-a-restful-api-with-node-and-postgres/)\n",
        "* [¿Cómo instalar Node.js en Ubuntu 16.04?](https://www.digitalocean.com/community/tutorials/como-instalar-node-js-en-ubuntu-16-04-es)\n",
        "* [Link to images within google drive from a colab notebook](https://stackoverflow.com/questions/48896573/link-to-images-within-google-drive-from-a-colab-notebook)\n",
        "\n",
        "* [How To Install and Use PostgreSQL on Ubuntu 18.04](https://www.digitalocean.com/community/tutorials/how-to-install-and-use-postgresql-on-ubuntu-18-04)\n",
        "\n",
        "* [Express](https://expressjs.com/)\n",
        "\n",
        "* [pg-promise](https://www.npmjs.com/package/pg-promise)\n",
        "\n",
        "* [bluebird](http://bluebirdjs.com/docs/getting-started.html)\n",
        "\n",
        "* [Forever](https://www.npmjs.com/package/forever)"
      ]
    },
    {
      "cell_type": "markdown",
      "metadata": {
        "id": "611RRMPXqfhU",
        "colab_type": "text"
      },
      "source": [
        "## Configurar Azure"
      ]
    },
    {
      "cell_type": "markdown",
      "metadata": {
        "id": "ZR4egMMQhbyX",
        "colab_type": "text"
      },
      "source": [
        "### Crear una cuenta en [Azure](http://azure.microsoft.com/en-us/free?ref=portal)\n",
        "<img src=\"https://docs.google.com/uc?export=download&id=1k87EUAUCB01FhfbEYxEzK3et-3Bp8tA0\" width= \"500\">\n"
      ]
    },
    {
      "cell_type": "markdown",
      "metadata": {
        "id": "Wk1ClNCqiRk8",
        "colab_type": "text"
      },
      "source": [
        "### Crear una máquina virtual con las siguientes características:\n",
        "* **Public IP address:** enable\n",
        "* **Operating system:** Linux (ubuntu 18.04)\n",
        "* **Size:** Standard D2s v3 (2 vcpus, 8 GiB memory)\n",
        "\n",
        "<img src=\"https://docs.google.com/uc?export=download&id=1FpqMOfmrVKpccdX9Ypra03gW-IHmF5S6\" width= \"500\">"
      ]
    },
    {
      "cell_type": "markdown",
      "metadata": {
        "id": "AESmqD7IpYws",
        "colab_type": "text"
      },
      "source": [
        "## En Serial Console: instalar Nodejs\n",
        "\n"
      ]
    },
    {
      "cell_type": "markdown",
      "metadata": {
        "id": "rl_INuAniTzK",
        "colab_type": "text"
      },
      "source": [
        "### Actualizar el índice de paquetes\n",
        "`sudo apt-get update`"
      ]
    },
    {
      "cell_type": "markdown",
      "metadata": {
        "id": "-iBDqzJ0mftC",
        "colab_type": "text"
      },
      "source": [
        "### Instalar NodeJs\n",
        "`sudo apt-get install nodejs`"
      ]
    },
    {
      "cell_type": "markdown",
      "metadata": {
        "id": "9kGabO2ym29B",
        "colab_type": "text"
      },
      "source": [
        "### Instalar el gestor de paquetes NPM de NodeJs\n",
        "`sudo apt-get install npm`"
      ]
    },
    {
      "cell_type": "markdown",
      "metadata": {
        "id": "p1b4E1_po6mZ",
        "colab_type": "text"
      },
      "source": [
        "### Instalar el generador de aplicaciones [Express](https://expressjs.com/es/starter/generator.html)\n",
        "`sudo npm install express-generator@4 -g`"
      ]
    },
    {
      "cell_type": "markdown",
      "metadata": {
        "id": "mPSVl_em78RJ",
        "colab_type": "text"
      },
      "source": [
        "## En Serial Console: instalar PostgreSQL"
      ]
    },
    {
      "cell_type": "markdown",
      "metadata": {
        "id": "sQHEVU5Y7_r_",
        "colab_type": "text"
      },
      "source": [
        "### Instalar PostgreSQL\n",
        "\n",
        "`sudo apt install postgresql postgresql-contrib`"
      ]
    },
    {
      "cell_type": "markdown",
      "metadata": {
        "id": "2pMwbX0o8O_D",
        "colab_type": "text"
      },
      "source": [
        "### Ingresar al súperusuario `postgres`\n",
        "`sudo -i -u postgres`"
      ]
    },
    {
      "cell_type": "markdown",
      "metadata": {
        "id": "6GiaAy8M8XYr",
        "colab_type": "text"
      },
      "source": [
        "### Abrir PostgreSQL\n",
        "$`psql`"
      ]
    },
    {
      "cell_type": "markdown",
      "metadata": {
        "id": "qEwZxHfn8a4j",
        "colab_type": "text"
      },
      "source": [
        "### Salir\n",
        "postgres=#`\\q`"
      ]
    },
    {
      "cell_type": "markdown",
      "metadata": {
        "id": "WdvYBRTK9AnE",
        "colab_type": "text"
      },
      "source": [
        "### Regresar al usuario\n",
        "`su - usuario`"
      ]
    },
    {
      "cell_type": "markdown",
      "metadata": {
        "id": "sH76bu1I-GMn",
        "colab_type": "text"
      },
      "source": [
        "### Ingresar a PostgreSQL sin cambiar de usuario\n",
        "`sudo -u postgres psql`"
      ]
    },
    {
      "cell_type": "markdown",
      "metadata": {
        "id": "aVEnnlaqynNw",
        "colab_type": "text"
      },
      "source": [
        "### Contraseña del súperusuario postgres\n",
        "\n",
        "`sudo -u postgres psql`\n",
        "\n",
        "`\\password postgres`\n",
        "\n",
        "`\\q`\n",
        "\n",
        "`sudo service postgresql restart`\n"
      ]
    },
    {
      "cell_type": "markdown",
      "metadata": {
        "id": "H5Chj3EP-J2i",
        "colab_type": "text"
      },
      "source": [
        "### Crear un rol para PostgreSQL\n",
        "\n",
        "#### Desde el súperusuario\n",
        "`sudo -u postgres createuser --interactive`\n",
        "\n",
        "#### Desde PostgreSQL\n",
        "`createuser --interactive`"
      ]
    },
    {
      "cell_type": "markdown",
      "metadata": {
        "id": "UBnWwmdm-4Jo",
        "colab_type": "text"
      },
      "source": [
        "### Crear una base de datos (user)\n",
        "\n",
        "#### Desde el súperusuario\n",
        "`sudo -u postgres createdb test`\n",
        "\n",
        "#### Desde PostgreSQL\n",
        "`createdb `"
      ]
    },
    {
      "cell_type": "markdown",
      "metadata": {
        "id": "caHMpVBoqkxq",
        "colab_type": "text"
      },
      "source": [
        "## Creando el proyecto"
      ]
    },
    {
      "cell_type": "markdown",
      "metadata": {
        "id": "7SbdbjdAplQJ",
        "colab_type": "text"
      },
      "source": [
        "### 7. Situarse en la carpeta /home \n",
        "`cd /home`"
      ]
    },
    {
      "cell_type": "markdown",
      "metadata": {
        "id": "im4fI8Map_Wa",
        "colab_type": "text"
      },
      "source": [
        "### 8.  Crear una carpeta para el proyecto\n",
        "`sudo mkdir practicas`\n",
        "\n",
        "`cd practicas`"
      ]
    },
    {
      "cell_type": "markdown",
      "metadata": {
        "id": "bsulsolD6wS2",
        "colab_type": "text"
      },
      "source": [
        "## Inicializando el proyecto"
      ]
    },
    {
      "cell_type": "markdown",
      "metadata": {
        "id": "O6gNtvDQqWZx",
        "colab_type": "text"
      },
      "source": [
        "### 9. Crear un nuevo proyecto Express y sus dependencias\n",
        "`sudo express practica_01`\n",
        "\n",
        "`cd practica_01`\n",
        "\n",
        "`ls -la`\n",
        "\n",
        "`sudo npm install`\n"
      ]
    },
    {
      "cell_type": "markdown",
      "metadata": {
        "id": "Tludfh88uLNI",
        "colab_type": "text"
      },
      "source": [
        "### 10. Añadir el puerto 3000 \n",
        "* En Networking \n",
        "  * Add inbound port rule\n",
        "    * **Name:** Port_3000\n",
        "    * **Port:** 3000\n",
        "    \n",
        "<img src=\"https://docs.google.com/uc?export=download&id=13fo11WmL09Xm53Nn8Tze9WRWUCi7TJWo\" width= \"500\">"
      ]
    },
    {
      "cell_type": "markdown",
      "metadata": {
        "id": "XQOPeF3qrVhQ",
        "colab_type": "text"
      },
      "source": [
        "### 11. Iniciar el servicio\n",
        "`sudo npm start`\n",
        "\n",
        "`localhost:3000/`\n",
        "\n",
        "\n",
        "<img src=\"https://docs.google.com/uc?export=download&id=1YPDIqo6RGM_BKxnn-J5UkceEbbZSpaMa\" width= \"500\">"
      ]
    },
    {
      "cell_type": "markdown",
      "metadata": {
        "id": "9jsORVV0vxKX",
        "colab_type": "text"
      },
      "source": [
        "### 12. Instalar [pg-promise](https://www.npmjs.com/package/pg-promise)\n",
        "`sudo npm install pg-promise@5 --save`"
      ]
    },
    {
      "cell_type": "markdown",
      "metadata": {
        "id": "AKuf1Vly59Bs",
        "colab_type": "text"
      },
      "source": [
        "### 13. Instalar [bluebird](http://bluebirdjs.com/docs/getting-started.html)\n",
        "`sudo npm install bluebird@3 --save`"
      ]
    },
    {
      "cell_type": "markdown",
      "metadata": {
        "id": "OY-oJ0nz3543",
        "colab_type": "text"
      },
      "source": [
        "### 14. en la raíz del proyecto crear un archivo llamado *queries.js*\n",
        "`sudo nano queries.js`\n",
        "\n",
        "```\n",
        "var promise = require('bluebird');\n",
        "\n",
        "var options = {\n",
        "// Initialization Options\n",
        "promiseLib: promise\n",
        "};\n",
        "\n",
        "var pgp = require('pg-promise')(options); //Instancia de pg-promise\n",
        "var connectionString = 'postgres://localhost:5432/puppies';\n",
        "var db = pgp({\n",
        "        host: 'localhost',\n",
        "        port: 5432,\n",
        "        database: 'puppies',\n",
        "        user: 'postgres',\n",
        "        password: 'postgres'\n",
        "});\n",
        "\n",
        "\n",
        "// add query functions\n",
        "\n",
        "module.exports = {\n",
        "  getAllPuppies: getAllPuppies,\n",
        "  getSinglePuppy: getSinglePuppy,\n",
        "  createPuppy: createPuppy,\n",
        "  updatePuppy: updatePuppy,\n",
        "  removePuppy: removePuppy\n",
        "};\n",
        "```\n"
      ]
    },
    {
      "cell_type": "markdown",
      "metadata": {
        "id": "uwhEnRpk4H_Z",
        "colab_type": "text"
      },
      "source": [
        "## Creando la base de datos\n"
      ]
    },
    {
      "cell_type": "markdown",
      "metadata": {
        "id": "Ma6DKyyG65WT",
        "colab_type": "text"
      },
      "source": [
        "### En la raíz del proyecto crear un archivo llamado *puppies.sql*\n",
        "`sudo nano puppies.sql`\n",
        "\n",
        "```\n",
        "DROP DATABASE IF EXISTS puppies;\n",
        "CREATE DATABASE puppies;\n",
        "\n",
        "\\c puppies;\n",
        "\n",
        "CREATE TABLE pups (\n",
        "  ID SERIAL PRIMARY KEY,\n",
        "  name VARCHAR,\n",
        "  breed VARCHAR,\n",
        "  age INTEGER,\n",
        "  sex VARCHAR\n",
        ");\n",
        "\n",
        "INSERT INTO pups (name, breed, age, sex)\n",
        "  VALUES ('Tyler', 'Retrieved', 3, 'M');\n",
        "  \n",
        "```"
      ]
    },
    {
      "cell_type": "markdown",
      "metadata": {
        "id": "9Se8yQC1PycM",
        "colab_type": "text"
      },
      "source": [
        "### Correr el sql, aplicar el esquema e insertar una fila\n",
        "`sudo -u postgres psql -f puppies.sql`"
      ]
    },
    {
      "cell_type": "markdown",
      "metadata": {
        "id": "aHoWmQeES0Wd",
        "colab_type": "text"
      },
      "source": [
        "### Checar la base de datos\n",
        "`sudo -u postgres psql`\n",
        "\n",
        "`\\l`\n",
        "\n",
        "`\\c puppies`\n",
        "\n",
        "`\\dt`\n",
        "\n",
        "`select * from pups;`\n"
      ]
    },
    {
      "cell_type": "markdown",
      "metadata": {
        "id": "mJ1KGuQ_TWBT",
        "colab_type": "text"
      },
      "source": [
        "## Configurar rutas"
      ]
    },
    {
      "cell_type": "markdown",
      "metadata": {
        "id": "f6_mU8KNTcWt",
        "colab_type": "text"
      },
      "source": [
        "### Ir a *routes*\n",
        "`cd routes/`"
      ]
    },
    {
      "cell_type": "markdown",
      "metadata": {
        "id": "Y-IEetnqTus8",
        "colab_type": "text"
      },
      "source": [
        "### Editar el archivo /routes/index.js\n",
        "`sudo nano index.js`"
      ]
    },
    {
      "cell_type": "markdown",
      "metadata": {
        "id": "1YDb6fzCULW7",
        "colab_type": "text"
      },
      "source": [
        "Añadir funciones/queries al archivo /queries.js\n",
        "\n",
        "```\n",
        "var express = require('express');\n",
        "var router = express.Router();\n",
        "\n",
        "var db = require('../queries');\n",
        "\n",
        "\n",
        "router.get('/api/puppies', db.getAllPuppies);\n",
        "router.get('/api/puppies/:id', db.getSinglePuppy);\n",
        "router.post('/api/puppies', db.createPuppy);\n",
        "router.put('/api/puppies/:id', db.updatePuppy);\n",
        "router.delete('/api/puppies/:id', db.removePuppy);\n",
        "\n",
        "\n",
        "module.exports = router;\n",
        "```"
      ]
    },
    {
      "cell_type": "markdown",
      "metadata": {
        "id": "7ysmtowV4y28",
        "colab_type": "text"
      },
      "source": [
        "## Forever"
      ]
    },
    {
      "cell_type": "markdown",
      "metadata": {
        "id": "SwSzukTYUeMK",
        "colab_type": "text"
      },
      "source": [
        "### Instalar Forever\n",
        "\n",
        "`sudo npm install -g forever`\n"
      ]
    },
    {
      "cell_type": "markdown",
      "metadata": {
        "id": "I_1DiEKB4bvL",
        "colab_type": "text"
      },
      "source": [
        "### Parar Forever\n",
        "`sudo forever list`\n",
        "\n",
        "`sudo forever stop PID`"
      ]
    },
    {
      "cell_type": "markdown",
      "metadata": {
        "id": "cTepLyzc4lPM",
        "colab_type": "text"
      },
      "source": [
        "### Usar Forever en el proyecto \n",
        "`sudo forever start /bin/www`"
      ]
    }
  ]
}