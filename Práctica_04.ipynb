{
  "nbformat": 4,
  "nbformat_minor": 0,
  "metadata": {
    "colab": {
      "name": "Práctica_04.ipynb",
      "provenance": [],
      "include_colab_link": true
    },
    "kernelspec": {
      "name": "python3",
      "display_name": "Python 3"
    }
  },
  "cells": [
    {
      "cell_type": "markdown",
      "metadata": {
        "id": "view-in-github",
        "colab_type": "text"
      },
      "source": [
        "<a href=\"https://colab.research.google.com/github/JacoboGGLeon/abd_2020_1/blob/master/Pr%C3%A1ctica_04.ipynb\" target=\"_parent\"><img src=\"https://colab.research.google.com/assets/colab-badge.svg\" alt=\"Open In Colab\"/></a>"
      ]
    },
    {
      "cell_type": "markdown",
      "metadata": {
        "id": "9UDsKwPNTzLd",
        "colab_type": "text"
      },
      "source": [
        "# Práctica 4\n",
        "## Estadísticas de lectura"
      ]
    },
    {
      "cell_type": "markdown",
      "metadata": {
        "id": "SwabRotaT1Sv",
        "colab_type": "text"
      },
      "source": [
        "### Material\n",
        "\n",
        "* [PostgreSQL Sample Database\n",
        "](http://www.postgresqltutorial.com/postgresql-sample-database/)\n",
        "\n",
        "* [Load PostgreSQL Sample Database\n",
        "](http://www.postgresqltutorial.com/load-postgresql-sample-database/)\n",
        "\n",
        "* [PostgreSQL Restore Database\n",
        "](http://www.postgresqltutorial.com/postgresql-restore-database/)\n",
        "\n",
        "* [Getting 'Connection refused' after installing PostgreSQL and PG Admin 4](https://dba.stackexchange.com/questions/165290/getting-connection-refused-after-installing-postgresql-and-pg-admin-4)\n",
        "\n",
        "* [How to unzip a zip file from the Terminal?](https://askubuntu.com/questions/86849/how-to-unzip-a-zip-file-from-the-terminal)\n",
        "\n",
        "* [What command do I need to unzip/extract a .tar.gz file?](https://askubuntu.com/questions/25347/what-command-do-i-need-to-unzip-extract-a-tar-gz-file)\n",
        "\n",
        "* [Getting error: Peer authentication failed for user “postgres”, when trying to get pgsql working with rails](https://stackoverflow.com/questions/18664074/getting-error-peer-authentication-failed-for-user-postgres-when-trying-to-ge)\n",
        "\n",
        "* [Connect to Vagrant Postgres Database via pgAdmin3 on Mac](http://theneum.com/blog/connect-to-vagrant-postgres-database-via-pgadmin3-on-mac/)\n"
      ]
    },
    {
      "cell_type": "markdown",
      "metadata": {
        "id": "XZ7rRpzwWD4h",
        "colab_type": "text"
      },
      "source": [
        "`mkdir vagrant-ubuntu`"
      ]
    },
    {
      "cell_type": "markdown",
      "metadata": {
        "id": "6ihuXS9qIv7g",
        "colab_type": "text"
      },
      "source": [
        "`cd vagrant-ubuntu/`"
      ]
    },
    {
      "cell_type": "markdown",
      "metadata": {
        "id": "ihBGmzevI0CJ",
        "colab_type": "text"
      },
      "source": [
        "`vagrant init bento/ubuntu-18.04`"
      ]
    },
    {
      "cell_type": "markdown",
      "metadata": {
        "id": "TyGATKB1I1mw",
        "colab_type": "text"
      },
      "source": [
        "Agregar al Vagrantfile\n",
        "\n",
        "`config.vm.network \"forwarded_port\", guest: 5432, host: 65432`\n",
        "\n",
        "`config.vm.define \"vm-name\"`"
      ]
    },
    {
      "cell_type": "markdown",
      "metadata": {
        "id": "6UlOKU8ZLO0o",
        "colab_type": "text"
      },
      "source": [
        "`vagrant up vm-name`"
      ]
    },
    {
      "cell_type": "markdown",
      "metadata": {
        "id": "EPEWn79DLXAP",
        "colab_type": "text"
      },
      "source": [
        "`vagrant ssh vm-name`"
      ]
    },
    {
      "cell_type": "markdown",
      "metadata": {
        "id": "ek_R9240WLYi",
        "colab_type": "text"
      },
      "source": [
        "`sudo apt-get update`"
      ]
    },
    {
      "cell_type": "markdown",
      "metadata": {
        "id": "bSH93RoWcRy3",
        "colab_type": "text"
      },
      "source": [
        "`sudo apt-get install unzip`"
      ]
    },
    {
      "cell_type": "markdown",
      "metadata": {
        "id": "P6uBUmfSMxNo",
        "colab_type": "text"
      },
      "source": [
        "`sudo apt install postgresql postgresql-contrib -y`"
      ]
    },
    {
      "cell_type": "markdown",
      "metadata": {
        "id": "Pf8-MelPMzXb",
        "colab_type": "text"
      },
      "source": [
        "`sudo -u postgres psql -c \"SELECT version();\"`"
      ]
    },
    {
      "cell_type": "markdown",
      "metadata": {
        "id": "WZosyCx-WYGj",
        "colab_type": "text"
      },
      "source": [
        "`sudo -u postgres psql`"
      ]
    },
    {
      "cell_type": "markdown",
      "metadata": {
        "id": "m2UHqIOYWb1P",
        "colab_type": "text"
      },
      "source": [
        "`\\password postgres`"
      ]
    },
    {
      "cell_type": "markdown",
      "metadata": {
        "id": "Lmg3AZ3FWf6Q",
        "colab_type": "text"
      },
      "source": [
        "`\\q`"
      ]
    },
    {
      "cell_type": "markdown",
      "metadata": {
        "id": "ViwAb_nBWt5o",
        "colab_type": "text"
      },
      "source": [
        "`sudo nano /etc/postgresql/10/main/postgresql.conf`\n",
        "\n",
        "Agregar\n",
        "\n",
        "`listen_addresses = '*'`"
      ]
    },
    {
      "cell_type": "markdown",
      "metadata": {
        "id": "PNgYxWXtW-11",
        "colab_type": "text"
      },
      "source": [
        "`sudo nano /etc/postgresql/10/main/pg_hba.conf`\n",
        "\n",
        "Agreagar\n",
        "\n",
        "`host    all             all             10.0.0.0/16             md5`"
      ]
    },
    {
      "cell_type": "markdown",
      "metadata": {
        "id": "BV2tJf6NWma1",
        "colab_type": "text"
      },
      "source": [
        "`sudo service postgresql restart`"
      ]
    },
    {
      "cell_type": "markdown",
      "metadata": {
        "id": "D0KLtSajXURn",
        "colab_type": "text"
      },
      "source": [
        "## En pgAdmin"
      ]
    },
    {
      "cell_type": "markdown",
      "metadata": {
        "id": "k91xK_aYXYzK",
        "colab_type": "text"
      },
      "source": [
        "Add new server\n",
        "* General\n",
        "  * Name: \"server name\"\n",
        "* Connection\n",
        "  * Host: localhost\n",
        "  * Port: 65432\n",
        "  * Username: postgres\n",
        "  * Password: pass\n"
      ]
    },
    {
      "cell_type": "markdown",
      "metadata": {
        "id": "JzcRjy-9Zlxd",
        "colab_type": "text"
      },
      "source": [
        "`wget http://www.postgresqltutorial.com/wp-content/uploads/2019/05/dvdrental.zip`\n"
      ]
    },
    {
      "cell_type": "markdown",
      "metadata": {
        "id": "DmgEAUZScZYb",
        "colab_type": "text"
      },
      "source": [
        "`sudo unzip dvdrental.zip`"
      ]
    },
    {
      "cell_type": "markdown",
      "metadata": {
        "id": "vI9xC0fgcDKT",
        "colab_type": "text"
      },
      "source": [
        "`sudo -u postgres psql`"
      ]
    },
    {
      "cell_type": "markdown",
      "metadata": {
        "id": "qCK94JNFcESW",
        "colab_type": "text"
      },
      "source": [
        "`CREATE DATABASE dvdrental;`"
      ]
    },
    {
      "cell_type": "markdown",
      "metadata": {
        "id": "C5XFjPKxcHzO",
        "colab_type": "text"
      },
      "source": [
        "`\\q`"
      ]
    },
    {
      "cell_type": "markdown",
      "metadata": {
        "id": "CKLodM2tc_p9",
        "colab_type": "text"
      },
      "source": [
        "`sudo -u postgres pg_restore --dbname=dvdrental --verbose dvdrental.tar`"
      ]
    },
    {
      "cell_type": "markdown",
      "metadata": {
        "id": "AXMf6gbidHjw",
        "colab_type": "text"
      },
      "source": [
        "`sudo -u postgres psql`"
      ]
    },
    {
      "cell_type": "markdown",
      "metadata": {
        "id": "DCC2XVLKdJfF",
        "colab_type": "text"
      },
      "source": [
        "`\\l`"
      ]
    },
    {
      "cell_type": "markdown",
      "metadata": {
        "id": "N5pLxolRdLK8",
        "colab_type": "text"
      },
      "source": [
        "`\\c dvdrental`"
      ]
    },
    {
      "cell_type": "markdown",
      "metadata": {
        "id": "00tNHIePdPZV",
        "colab_type": "text"
      },
      "source": [
        "`\\dt`"
      ]
    },
    {
      "cell_type": "markdown",
      "metadata": {
        "id": "GFwc5TOOjgd3",
        "colab_type": "text"
      },
      "source": [
        "\\timing"
      ]
    },
    {
      "cell_type": "markdown",
      "metadata": {
        "id": "Nh8EYozFjnjb",
        "colab_type": "text"
      },
      "source": [
        "`select count(*) from actor;`"
      ]
    },
    {
      "cell_type": "markdown",
      "metadata": {
        "id": "6ut3Jm6RdUBz",
        "colab_type": "text"
      },
      "source": [
        "`select * from actor;`"
      ]
    },
    {
      "cell_type": "markdown",
      "metadata": {
        "id": "PjHLjKdxjMLD",
        "colab_type": "text"
      },
      "source": [
        "`ANALYSE actor;`"
      ]
    },
    {
      "cell_type": "markdown",
      "metadata": {
        "id": "YzqGJF9JjOCx",
        "colab_type": "text"
      },
      "source": [
        "`EXPLAIN SELECT * FROM actor;`"
      ]
    },
    {
      "cell_type": "markdown",
      "metadata": {
        "id": "Ks7c1SxmnZTS",
        "colab_type": "text"
      },
      "source": [
        "`EXPLAIN ANALYZE SELECT * FROM actor;`"
      ]
    },
    {
      "cell_type": "markdown",
      "metadata": {
        "id": "tKKHNnqNngOg",
        "colab_type": "text"
      },
      "source": [
        "`EXPLAIN (ANALYZE, FORMAT YAML, BUFFERS) SELECT * FROM actor;`"
      ]
    },
    {
      "cell_type": "code",
      "metadata": {
        "id": "_l4-Eerlncsn",
        "colab_type": "code",
        "colab": {}
      },
      "source": [
        ""
      ],
      "execution_count": 0,
      "outputs": []
    }
  ]
}