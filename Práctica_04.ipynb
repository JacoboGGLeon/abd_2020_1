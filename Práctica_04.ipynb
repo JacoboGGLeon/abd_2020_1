{
  "nbformat": 4,
  "nbformat_minor": 0,
  "metadata": {
    "colab": {
      "name": "Práctica_04.ipynb",
      "provenance": [],
      "include_colab_link": true
    },
    "kernelspec": {
      "name": "python3",
      "display_name": "Python 3"
    }
  },
  "cells": [
    {
      "cell_type": "markdown",
      "metadata": {
        "id": "view-in-github",
        "colab_type": "text"
      },
      "source": [
        "<a href=\"https://colab.research.google.com/github/JacoboGGLeon/abd_2020_1/blob/master/Pr%C3%A1ctica_04.ipynb\" target=\"_parent\"><img src=\"https://colab.research.google.com/assets/colab-badge.svg\" alt=\"Open In Colab\"/></a>"
      ]
    },
    {
      "cell_type": "markdown",
      "metadata": {
        "id": "9UDsKwPNTzLd",
        "colab_type": "text"
      },
      "source": [
        "# Práctica 2\n",
        "## Auditoria de una Basede Datos"
      ]
    },
    {
      "cell_type": "markdown",
      "metadata": {
        "id": "SwabRotaT1Sv",
        "colab_type": "text"
      },
      "source": [
        "### Material\n",
        "\n",
        "* [PostgreSQL Sample Database\n",
        "](http://www.postgresqltutorial.com/postgresql-sample-database/)\n",
        "\n",
        "* [Load PostgreSQL Sample Database\n",
        "](http://www.postgresqltutorial.com/load-postgresql-sample-database/)\n",
        "\n",
        "* [PostgreSQL Restore Database\n",
        "](http://www.postgresqltutorial.com/postgresql-restore-database/)\n",
        "\n",
        "* [Getting 'Connection refused' after installing PostgreSQL and PG Admin 4](https://dba.stackexchange.com/questions/165290/getting-connection-refused-after-installing-postgresql-and-pg-admin-4)\n",
        "\n",
        "* [How to unzip a zip file from the Terminal?](https://askubuntu.com/questions/86849/how-to-unzip-a-zip-file-from-the-terminal)\n",
        "\n",
        "* [What command do I need to unzip/extract a .tar.gz file?](https://askubuntu.com/questions/25347/what-command-do-i-need-to-unzip-extract-a-tar-gz-file)\n",
        "\n",
        "* [Getting error: Peer authentication failed for user “postgres”, when trying to get pgsql working with rails](https://stackoverflow.com/questions/18664074/getting-error-peer-authentication-failed-for-user-postgres-when-trying-to-ge)\n",
        "\n",
        "* "
      ]
    },
    {
      "cell_type": "markdown",
      "metadata": {
        "id": "XZ7rRpzwWD4h",
        "colab_type": "text"
      },
      "source": [
        "`ssh jacoboggleon@13.68.229.121`"
      ]
    },
    {
      "cell_type": "markdown",
      "metadata": {
        "id": "ek_R9240WLYi",
        "colab_type": "text"
      },
      "source": [
        "`sudo apt-get update`"
      ]
    },
    {
      "cell_type": "markdown",
      "metadata": {
        "id": "bSH93RoWcRy3",
        "colab_type": "text"
      },
      "source": [
        "`sudo apt-get install unzip`"
      ]
    },
    {
      "cell_type": "markdown",
      "metadata": {
        "id": "r-xRLT0CZGhr",
        "colab_type": "text"
      },
      "source": [
        "Agregar el puerto 5432"
      ]
    },
    {
      "cell_type": "markdown",
      "metadata": {
        "id": "JzcRjy-9Zlxd",
        "colab_type": "text"
      },
      "source": [
        "`wget http://www.postgresqltutorial.com/wp-content/uploads/2019/05/dvdrental.zip`\n"
      ]
    },
    {
      "cell_type": "markdown",
      "metadata": {
        "id": "DmgEAUZScZYb",
        "colab_type": "text"
      },
      "source": [
        "`sudo unzip dvdrental.zip`"
      ]
    },
    {
      "cell_type": "markdown",
      "metadata": {
        "id": "vI9xC0fgcDKT",
        "colab_type": "text"
      },
      "source": [
        "`sudo -u postgres psql`"
      ]
    },
    {
      "cell_type": "markdown",
      "metadata": {
        "id": "qCK94JNFcESW",
        "colab_type": "text"
      },
      "source": [
        "`CREATE DATABASE dvdrental;`"
      ]
    },
    {
      "cell_type": "markdown",
      "metadata": {
        "id": "C5XFjPKxcHzO",
        "colab_type": "text"
      },
      "source": [
        "`\\q`"
      ]
    },
    {
      "cell_type": "markdown",
      "metadata": {
        "id": "CKLodM2tc_p9",
        "colab_type": "text"
      },
      "source": [
        "`sudo -u postgres pg_restore --dbname=dvdrental --verbose dvdrental.tar`"
      ]
    },
    {
      "cell_type": "markdown",
      "metadata": {
        "id": "AXMf6gbidHjw",
        "colab_type": "text"
      },
      "source": [
        "`sudo -u postgres psql`"
      ]
    },
    {
      "cell_type": "markdown",
      "metadata": {
        "id": "DCC2XVLKdJfF",
        "colab_type": "text"
      },
      "source": [
        "`\\l`"
      ]
    },
    {
      "cell_type": "markdown",
      "metadata": {
        "id": "N5pLxolRdLK8",
        "colab_type": "text"
      },
      "source": [
        "`\\c dvdrental`"
      ]
    },
    {
      "cell_type": "markdown",
      "metadata": {
        "id": "00tNHIePdPZV",
        "colab_type": "text"
      },
      "source": [
        "`\\dt`"
      ]
    },
    {
      "cell_type": "markdown",
      "metadata": {
        "id": "6ut3Jm6RdUBz",
        "colab_type": "text"
      },
      "source": [
        "`select * from actor;`"
      ]
    },
    {
      "cell_type": "markdown",
      "metadata": {
        "id": "ooLtuh_nn9TW",
        "colab_type": "text"
      },
      "source": [
        "## Replicación"
      ]
    },
    {
      "cell_type": "markdown",
      "metadata": {
        "id": "E8D8RNXKxQoi",
        "colab_type": "text"
      },
      "source": [
        "`sudo nano /etc/postgresql/11/main/pg_hba.conf`\n",
        "\n",
        "---\n",
        "\n",
        "`# Database administrative login by Unix domain socket`\n",
        "\n",
        "`local   all             postgres                                md5`\n",
        "\n",
        "---\n",
        "\n",
        "`# IPv4 local connections:`\n",
        "\n",
        "`host    all             all             0.0.0.0/0            md5`\n",
        "\n",
        "---\n",
        "\n",
        "`sudo service postgresql restart`"
      ]
    },
    {
      "cell_type": "markdown",
      "metadata": {
        "id": "LWgGutyC0XnK",
        "colab_type": "text"
      },
      "source": [
        "`sudo nano /etc/postgresql/11/main/postgresql.conf`\n",
        "\n",
        "---\n",
        "\n",
        "`# Add settings for extensions here``\n",
        "\n",
        "`listen_addresses = '*'`"
      ]
    },
    {
      "cell_type": "markdown",
      "metadata": {
        "id": "JgoHukHrsneK",
        "colab_type": "text"
      },
      "source": [
        "### Master"
      ]
    },
    {
      "cell_type": "markdown",
      "metadata": {
        "id": "kynYiW1hn_ez",
        "colab_type": "text"
      },
      "source": [
        "`sudo nano /etc/postgresql/11/main/postgresql.conf`\n",
        "\n",
        "`# WRITE-AHEAD LOG`\n",
        "\n",
        "`wal_level = logical`\n",
        "\n",
        "---\n",
        "\n",
        "`sudo service postgresql restart`\n",
        "\n"
      ]
    },
    {
      "cell_type": "markdown",
      "metadata": {
        "id": "ik7eEfFmun8l",
        "colab_type": "text"
      },
      "source": [
        "Crear una base de datos `log_rep_db`\n",
        "\n",
        "`CREATE DATABASE log_rep_db;`\n",
        "\n",
        "`\\l`\n",
        "\n",
        "`\\c log_rep_db`\n",
        "\n",
        "`CREATE TABLE family (mid int,mname text);`\n",
        "\n",
        "`CREATE ROLE log_rep_user WITH REPLICATION LOGIN PASSWORD 'log_rep_user';`\n",
        "\n",
        "`GRANT ALL PRIVILEGES ON DATABASE log_rep_db TO log_rep_user;`\n",
        "\n",
        "`GRANT ALL PRIVILEGES ON ALL TABLES IN SCHEMA public TO log_rep_user;`"
      ]
    },
    {
      "cell_type": "markdown",
      "metadata": {
        "id": "e-GxbQk5wtYe",
        "colab_type": "text"
      },
      "source": [
        "`CREATE PUBLICATION mypub1;`\n",
        "\n",
        "`ALTER PUBLICATION mypub1 ADD TABLE family;`\n",
        "\n",
        "`CREATE SUBSCRIPTION mysub1 CONNECTION 'host=goku port=5432 password=log_rep_user user=log_rep_user dbname=log_rep_db' PUBLICATION mypub1;`"
      ]
    },
    {
      "cell_type": "markdown",
      "metadata": {
        "id": "B5VumLFB1tiq",
        "colab_type": "text"
      },
      "source": [
        "`sudo -u postgres psql`\n",
        "\n",
        "`\\c log_rep_db`\n",
        "\n",
        "`INSERT INTO family (mid,mname) VALUES (1,'Vito Corleone');`\n",
        "\n",
        "`INSERT INTO family (mid,mname) VALUES (2,'Michael Corleone');`\n",
        "\n",
        "`select * from family;`"
      ]
    },
    {
      "cell_type": "markdown",
      "metadata": {
        "id": "3RlwuxNG2foo",
        "colab_type": "text"
      },
      "source": [
        "`INSERT INTO family (mid,mname) VALUES (3,'Walter White');`"
      ]
    },
    {
      "cell_type": "markdown",
      "metadata": {
        "id": "uyfc39uewC_D",
        "colab_type": "text"
      },
      "source": [
        "## Slave"
      ]
    },
    {
      "cell_type": "markdown",
      "metadata": {
        "id": "b_vZS72LoBw4",
        "colab_type": "text"
      },
      "source": [
        "`sudo -u postgres psql`\n",
        "\n",
        "`CREATE DATABASE log_rep_db;`\n",
        "\n",
        "`\\c log_rep_db`\n",
        "\n",
        "`CREATE TABLE family (mid int,mname text);`"
      ]
    },
    {
      "cell_type": "markdown",
      "metadata": {
        "id": "XXSb09zz1RMn",
        "colab_type": "text"
      },
      "source": [
        "`\\c log_rep_db`\n",
        "\n",
        "`CREATE SUBSCRIPTION mysub1 CONNECTION 'host=52.168.89.238 port=5432 password=log_rep_user user=log_rep_user dbname=log_rep_db' PUBLICATION mypub1;`"
      ]
    },
    {
      "cell_type": "markdown",
      "metadata": {
        "id": "_Glg-vFJ2R_k",
        "colab_type": "text"
      },
      "source": [
        "`select * from family;`"
      ]
    },
    {
      "cell_type": "code",
      "metadata": {
        "id": "ZDWIHu0Z_-aK",
        "colab_type": "code",
        "colab": {}
      },
      "source": [
        ""
      ],
      "execution_count": 0,
      "outputs": []
    },
    {
      "cell_type": "code",
      "metadata": {
        "id": "Hdy21H8yTt3g",
        "colab_type": "code",
        "colab": {}
      },
      "source": [
        ""
      ],
      "execution_count": 0,
      "outputs": []
    }
  ]
}