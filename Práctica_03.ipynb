{
  "nbformat": 4,
  "nbformat_minor": 0,
  "metadata": {
    "colab": {
      "name": "Práctica_03.ipynb",
      "provenance": [],
      "include_colab_link": true
    },
    "kernelspec": {
      "name": "python3",
      "display_name": "Python 3"
    }
  },
  "cells": [
    {
      "cell_type": "markdown",
      "metadata": {
        "id": "view-in-github",
        "colab_type": "text"
      },
      "source": [
        "<a href=\"https://colab.research.google.com/github/JacoboGGLeon/abd_2020_1/blob/master/Pr%C3%A1ctica_03.ipynb\" target=\"_parent\"><img src=\"https://colab.research.google.com/assets/colab-badge.svg\" alt=\"Open In Colab\"/></a>"
      ]
    },
    {
      "cell_type": "markdown",
      "metadata": {
        "id": "9UDsKwPNTzLd",
        "colab_type": "text"
      },
      "source": [
        "# Práctica 3\n",
        "## Replicación Lógica Maestro - Esclavo"
      ]
    },
    {
      "cell_type": "markdown",
      "metadata": {
        "id": "SwabRotaT1Sv",
        "colab_type": "text"
      },
      "source": [
        "### Material\n",
        "\n",
        "* [Setting up logical replication in PostgreSQL](https://medium.com/@techrandomthoughts/setting-up-logical-replication-in-postgresql-43887b9e1d80)\n",
        "\n",
        "* [Getting Started with PostgreSQL Streaming Replication\n",
        "](https://medium.com/@kristi.anderson/getting-started-with-postgresql-streaming-replication-ade416298685)\n",
        "\n",
        "* [Getting error: Peer authentication failed for user “postgres”, when trying to get pgsql working with rails](https://stackoverflow.com/questions/18664074/getting-error-peer-authentication-failed-for-user-postgres-when-trying-to-ge)\n"
      ]
    },
    {
      "cell_type": "markdown",
      "metadata": {
        "id": "ayYno8JtAESs",
        "colab_type": "text"
      },
      "source": [
        "## En la máquina virtual"
      ]
    },
    {
      "cell_type": "markdown",
      "metadata": {
        "id": "K6cew4y1ATJj",
        "colab_type": "text"
      },
      "source": [
        "### Crear regla de puerto de entrada\n",
        "\n",
        "* Intervalo de puesrtos de destino: `5432`\n",
        "* Protocolo: `TCP`\n",
        "* Nombre: `Port_5432`\n",
        "\n",
        "<img src=\"https://docs.google.com/uc?export=download&id=1851ThbDiRLCpHc-tVmDSZy5cCxPgiDlc\" width= \"300\">"
      ]
    },
    {
      "cell_type": "markdown",
      "metadata": {
        "id": "vAl2ZwlADJrL",
        "colab_type": "text"
      },
      "source": [
        "### Modificamos la contraseña\n",
        "\n",
        "`sudo -u postgres psql`\n",
        "\n",
        "`\\password postgres`\n",
        "\n",
        "`\\q`\n",
        "\n",
        "`sudo service postgresql restart`"
      ]
    },
    {
      "cell_type": "markdown",
      "metadata": {
        "id": "E8D8RNXKxQoi",
        "colab_type": "text"
      },
      "source": [
        "### Modificar los archivos `pg_hba.conf` y `postgresql.conf`\n",
        "\n",
        "#### Para `pg_hba.conf`\n",
        "\n",
        "`sudo nano /etc/postgresql/11/main/pg_hba.conf`\n",
        "\n",
        "---\n",
        "\n",
        "`# Database administrative login by Unix domain socket`\n",
        "\n",
        "`local   all             postgres                                md5`\n",
        "\n",
        "---\n",
        "\n",
        "`# IPv4 local connections:`\n",
        "\n",
        "`host    all             all             0.0.0.0/0            md5`\n",
        "\n",
        "---"
      ]
    },
    {
      "cell_type": "markdown",
      "metadata": {
        "id": "LWgGutyC0XnK",
        "colab_type": "text"
      },
      "source": [
        "#### Para `postgresql.conf`\n",
        "\n",
        "`sudo nano /etc/postgresql/11/main/postgresql.conf`\n",
        "\n",
        "---\n",
        "\n",
        "`# Add settings for extensions here`\n",
        "\n",
        "`listen_addresses = '*'`\n",
        "\n",
        "---"
      ]
    },
    {
      "cell_type": "markdown",
      "metadata": {
        "id": "RR9m3syKBlrX",
        "colab_type": "text"
      },
      "source": [
        "#### Reiniciamos el servicio\n",
        "`sudo service postgresql restart`"
      ]
    },
    {
      "cell_type": "markdown",
      "metadata": {
        "id": "JgoHukHrsneK",
        "colab_type": "text"
      },
      "source": [
        "### Master"
      ]
    },
    {
      "cell_type": "markdown",
      "metadata": {
        "id": "kynYiW1hn_ez",
        "colab_type": "text"
      },
      "source": [
        "#### 1. Modificamos en `postgresql.conf` para activar la replicación lógica\n",
        "\n",
        "`sudo nano /etc/postgresql/11/main/postgresql.conf`\n",
        "\n",
        "---\n",
        "\n",
        "`# WRITE-AHEAD LOG`\n",
        "\n",
        "`wal_level = logical`\n",
        "\n",
        "---\n",
        "\n",
        "#### 2. Reiniciamos el servicio\n",
        "\n",
        "`sudo service postgresql restart`\n",
        "\n"
      ]
    },
    {
      "cell_type": "markdown",
      "metadata": {
        "id": "ik7eEfFmun8l",
        "colab_type": "text"
      },
      "source": [
        "#### 3. Crear una base de datos `log_rep_db`\n",
        "\n",
        "`sudo -u postgres psql`\n",
        "\n",
        "`CREATE DATABASE log_rep_db;`\n",
        "\n",
        "`\\l`\n",
        "\n",
        "`\\c log_rep_db`\n",
        "\n",
        "`CREATE TABLE family (mid int, mname text);`\n",
        "\n",
        "`CREATE ROLE log_rep_user WITH REPLICATION LOGIN PASSWORD 'log_rep_user';`\n",
        "\n",
        "`GRANT ALL PRIVILEGES ON DATABASE log_rep_db TO log_rep_user;`\n",
        "\n",
        "`GRANT ALL PRIVILEGES ON ALL TABLES IN SCHEMA public TO log_rep_user;`"
      ]
    },
    {
      "cell_type": "markdown",
      "metadata": {
        "id": "e-GxbQk5wtYe",
        "colab_type": "text"
      },
      "source": [
        "#### 5. Crear una Replicación Física\n",
        "`CREATE PUBLICATION mypub1;`\n",
        "\n",
        "`ALTER PUBLICATION mypub1 ADD TABLE family;`\n"
      ]
    },
    {
      "cell_type": "markdown",
      "metadata": {
        "id": "B5VumLFB1tiq",
        "colab_type": "text"
      },
      "source": [
        "#### 7. Insertamos datos\n",
        "`sudo -u postgres psql`\n",
        "\n",
        "`\\c log_rep_db`\n",
        "\n",
        "`INSERT INTO family (mid,mname) VALUES (1,'Vito Corleone');`\n",
        "\n",
        "`INSERT INTO family (mid,mname) VALUES (2,'Michael Corleone');`\n",
        "\n",
        "`INSERT INTO family (mid,mname) VALUES (3,'Walter White');`"
      ]
    },
    {
      "cell_type": "markdown",
      "metadata": {
        "id": "uyfc39uewC_D",
        "colab_type": "text"
      },
      "source": [
        "## Slave"
      ]
    },
    {
      "cell_type": "markdown",
      "metadata": {
        "id": "b_vZS72LoBw4",
        "colab_type": "text"
      },
      "source": [
        "#### 3. Crear una base de datos log_rep_db\n",
        "`sudo -u postgres psql`\n",
        "\n",
        "`CREATE DATABASE log_rep_db;`\n",
        "\n",
        "`\\c log_rep_db`\n",
        "\n",
        "`CREATE TABLE family (mid int,mname text);`"
      ]
    },
    {
      "cell_type": "markdown",
      "metadata": {
        "id": "_Glg-vFJ2R_k",
        "colab_type": "text"
      },
      "source": [
        "#### 4. Creamos una vista\n",
        "\n",
        "`sudo -u postgres psql`\n",
        "\n",
        "`\\l`\n",
        "\n",
        "`\\c log_rep_db`\n",
        "\n",
        "`CREATE VIEW vista AS SELECT * FROM family;`\n",
        "\n",
        "`SELECT * FROM vista;`"
      ]
    },
    {
      "cell_type": "markdown",
      "metadata": {
        "id": "XXSb09zz1RMn",
        "colab_type": "text"
      },
      "source": [
        "#### 6. Creamos una subscripción\n",
        "`\\c log_rep_db`\n",
        "\n",
        "`CREATE SUBSCRIPTION mysub1 CONNECTION 'host=52.168.89.238 port=5432 password=log_rep_user user=log_rep_user dbname=log_rep_db' PUBLICATION mypub1;`"
      ]
    },
    {
      "cell_type": "markdown",
      "metadata": {
        "id": "CvpWODP8IxW-",
        "colab_type": "text"
      },
      "source": [
        "#### 8. Hacemos una consulta\n",
        "\n",
        "`SELECT * FROM vista;`"
      ]
    }
  ]
}